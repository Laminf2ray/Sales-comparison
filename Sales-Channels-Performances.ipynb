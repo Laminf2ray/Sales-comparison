{
 "cells": [
  {
   "cell_type": "markdown",
   "metadata": {},
   "source": [
    "A manufacturing company has been experiancing a shift in the market place towards digital possibly leading a decline in its store sale (Resellers).\n",
    "\n",
    "1. Shift in the market place towards digital - Is this true? Can we prove it with the data?\n",
    "\n",
    "    A. We upload the data (Marketplacedata.csv)- the file contains both the online and store sales data.\n",
    "    \n",
    "    B. We will compare sales (revenue, profit, volume of transactions and items sold(order quantities) over time) "
   ]
  },
  {
   "cell_type": "code",
   "execution_count": 1,
   "metadata": {},
   "outputs": [],
   "source": [
    "# import libraries\n",
    "import pandas as pd\n",
    "import numpy as np \n",
    "import matplotlib.pyplot as plt\n",
    "%matplotlib inline\n"
   ]
  },
  {
   "cell_type": "code",
   "execution_count": 18,
   "metadata": {},
   "outputs": [
    {
     "data": {
      "text/html": [
       "<div>\n",
       "<style scoped>\n",
       "    .dataframe tbody tr th:only-of-type {\n",
       "        vertical-align: middle;\n",
       "    }\n",
       "\n",
       "    .dataframe tbody tr th {\n",
       "        vertical-align: top;\n",
       "    }\n",
       "\n",
       "    .dataframe thead th {\n",
       "        text-align: right;\n",
       "    }\n",
       "</style>\n",
       "<table border=\"1\" class=\"dataframe\">\n",
       "  <thead>\n",
       "    <tr style=\"text-align: right;\">\n",
       "      <th></th>\n",
       "      <th>SalesOrderID</th>\n",
       "      <th>SalesOrderDetailID</th>\n",
       "      <th>Cost</th>\n",
       "      <th>UnitPrice</th>\n",
       "      <th>Revenue</th>\n",
       "      <th>Profit</th>\n",
       "      <th>Status</th>\n",
       "      <th>OnlineOrderFlag</th>\n",
       "      <th>OrderDate</th>\n",
       "    </tr>\n",
       "  </thead>\n",
       "  <tbody>\n",
       "    <tr>\n",
       "      <th>0</th>\n",
       "      <td>43659</td>\n",
       "      <td>1</td>\n",
       "      <td>1898.0944</td>\n",
       "      <td>2024.994</td>\n",
       "      <td>2024.994</td>\n",
       "      <td>126.8996</td>\n",
       "      <td>5</td>\n",
       "      <td>Reseller</td>\n",
       "      <td>2011-05-31 00:00:00.000</td>\n",
       "    </tr>\n",
       "    <tr>\n",
       "      <th>1</th>\n",
       "      <td>43659</td>\n",
       "      <td>2</td>\n",
       "      <td>5694.2832</td>\n",
       "      <td>2024.994</td>\n",
       "      <td>6074.982</td>\n",
       "      <td>380.6988</td>\n",
       "      <td>5</td>\n",
       "      <td>Reseller</td>\n",
       "      <td>2011-05-31 00:00:00.000</td>\n",
       "    </tr>\n",
       "    <tr>\n",
       "      <th>2</th>\n",
       "      <td>43659</td>\n",
       "      <td>3</td>\n",
       "      <td>1898.0944</td>\n",
       "      <td>2024.994</td>\n",
       "      <td>2024.994</td>\n",
       "      <td>126.8996</td>\n",
       "      <td>5</td>\n",
       "      <td>Reseller</td>\n",
       "      <td>2011-05-31 00:00:00.000</td>\n",
       "    </tr>\n",
       "    <tr>\n",
       "      <th>3</th>\n",
       "      <td>43659</td>\n",
       "      <td>4</td>\n",
       "      <td>1912.1544</td>\n",
       "      <td>2039.994</td>\n",
       "      <td>2039.994</td>\n",
       "      <td>127.8396</td>\n",
       "      <td>5</td>\n",
       "      <td>Reseller</td>\n",
       "      <td>2011-05-31 00:00:00.000</td>\n",
       "    </tr>\n",
       "    <tr>\n",
       "      <th>4</th>\n",
       "      <td>43659</td>\n",
       "      <td>5</td>\n",
       "      <td>1912.1544</td>\n",
       "      <td>2039.994</td>\n",
       "      <td>2039.994</td>\n",
       "      <td>127.8396</td>\n",
       "      <td>5</td>\n",
       "      <td>Reseller</td>\n",
       "      <td>2011-05-31 00:00:00.000</td>\n",
       "    </tr>\n",
       "  </tbody>\n",
       "</table>\n",
       "</div>"
      ],
      "text/plain": [
       "   SalesOrderID  SalesOrderDetailID       Cost  UnitPrice   Revenue    Profit  \\\n",
       "0         43659                   1  1898.0944   2024.994  2024.994  126.8996   \n",
       "1         43659                   2  5694.2832   2024.994  6074.982  380.6988   \n",
       "2         43659                   3  1898.0944   2024.994  2024.994  126.8996   \n",
       "3         43659                   4  1912.1544   2039.994  2039.994  127.8396   \n",
       "4         43659                   5  1912.1544   2039.994  2039.994  127.8396   \n",
       "\n",
       "   Status OnlineOrderFlag                OrderDate  \n",
       "0       5        Reseller  2011-05-31 00:00:00.000  \n",
       "1       5        Reseller  2011-05-31 00:00:00.000  \n",
       "2       5        Reseller  2011-05-31 00:00:00.000  \n",
       "3       5        Reseller  2011-05-31 00:00:00.000  \n",
       "4       5        Reseller  2011-05-31 00:00:00.000  "
      ]
     },
     "execution_count": 18,
     "metadata": {},
     "output_type": "execute_result"
    }
   ],
   "source": [
    "# read the data\n",
    "data = pd.read_csv('Marketplacedata.csv')\n",
    "data.head()"
   ]
  },
  {
   "cell_type": "code",
   "execution_count": 19,
   "metadata": {},
   "outputs": [
    {
     "data": {
      "text/plain": [
       "(121317, 9)"
      ]
     },
     "execution_count": 19,
     "metadata": {},
     "output_type": "execute_result"
    }
   ],
   "source": [
    "# check the shape of the data\n",
    "data.shape"
   ]
  },
  {
   "cell_type": "code",
   "execution_count": 20,
   "metadata": {},
   "outputs": [
    {
     "data": {
      "text/html": [
       "<div>\n",
       "<style scoped>\n",
       "    .dataframe tbody tr th:only-of-type {\n",
       "        vertical-align: middle;\n",
       "    }\n",
       "\n",
       "    .dataframe tbody tr th {\n",
       "        vertical-align: top;\n",
       "    }\n",
       "\n",
       "    .dataframe thead th {\n",
       "        text-align: right;\n",
       "    }\n",
       "</style>\n",
       "<table border=\"1\" class=\"dataframe\">\n",
       "  <thead>\n",
       "    <tr style=\"text-align: right;\">\n",
       "      <th></th>\n",
       "      <th>SalesOrderID</th>\n",
       "      <th>SalesOrderDetailID</th>\n",
       "      <th>Cost</th>\n",
       "      <th>UnitPrice</th>\n",
       "      <th>Revenue</th>\n",
       "      <th>Profit</th>\n",
       "      <th>Status</th>\n",
       "    </tr>\n",
       "  </thead>\n",
       "  <tbody>\n",
       "    <tr>\n",
       "      <th>count</th>\n",
       "      <td>121317.000000</td>\n",
       "      <td>121317.000000</td>\n",
       "      <td>121317.000000</td>\n",
       "      <td>121317.000000</td>\n",
       "      <td>121317.000000</td>\n",
       "      <td>121317.000000</td>\n",
       "      <td>121317.0</td>\n",
       "    </tr>\n",
       "    <tr>\n",
       "      <th>mean</th>\n",
       "      <td>57827.363782</td>\n",
       "      <td>60659.000000</td>\n",
       "      <td>828.197843</td>\n",
       "      <td>465.093496</td>\n",
       "      <td>905.449207</td>\n",
       "      <td>77.251363</td>\n",
       "      <td>5.0</td>\n",
       "    </tr>\n",
       "    <tr>\n",
       "      <th>std</th>\n",
       "      <td>9009.147902</td>\n",
       "      <td>35021.345641</td>\n",
       "      <td>1705.596529</td>\n",
       "      <td>751.885081</td>\n",
       "      <td>1693.417389</td>\n",
       "      <td>404.866112</td>\n",
       "      <td>0.0</td>\n",
       "    </tr>\n",
       "    <tr>\n",
       "      <th>min</th>\n",
       "      <td>43659.000000</td>\n",
       "      <td>1.000000</td>\n",
       "      <td>0.856500</td>\n",
       "      <td>1.328200</td>\n",
       "      <td>1.374000</td>\n",
       "      <td>-15099.745500</td>\n",
       "      <td>5.0</td>\n",
       "    </tr>\n",
       "    <tr>\n",
       "      <th>25%</th>\n",
       "      <td>49884.000000</td>\n",
       "      <td>30330.000000</td>\n",
       "      <td>10.842300</td>\n",
       "      <td>21.490000</td>\n",
       "      <td>24.990000</td>\n",
       "      <td>1.204600</td>\n",
       "      <td>5.0</td>\n",
       "    </tr>\n",
       "    <tr>\n",
       "      <th>50%</th>\n",
       "      <td>57029.000000</td>\n",
       "      <td>60659.000000</td>\n",
       "      <td>104.705200</td>\n",
       "      <td>49.990000</td>\n",
       "      <td>134.982000</td>\n",
       "      <td>13.452700</td>\n",
       "      <td>5.0</td>\n",
       "    </tr>\n",
       "    <tr>\n",
       "      <th>75%</th>\n",
       "      <td>65490.000000</td>\n",
       "      <td>90988.000000</td>\n",
       "      <td>1030.948800</td>\n",
       "      <td>602.346000</td>\n",
       "      <td>1120.490000</td>\n",
       "      <td>43.813700</td>\n",
       "      <td>5.0</td>\n",
       "    </tr>\n",
       "    <tr>\n",
       "      <th>max</th>\n",
       "      <td>75123.000000</td>\n",
       "      <td>121317.000000</td>\n",
       "      <td>38530.385400</td>\n",
       "      <td>3578.270000</td>\n",
       "      <td>27893.619000</td>\n",
       "      <td>1487.835600</td>\n",
       "      <td>5.0</td>\n",
       "    </tr>\n",
       "  </tbody>\n",
       "</table>\n",
       "</div>"
      ],
      "text/plain": [
       "        SalesOrderID  SalesOrderDetailID           Cost      UnitPrice  \\\n",
       "count  121317.000000       121317.000000  121317.000000  121317.000000   \n",
       "mean    57827.363782        60659.000000     828.197843     465.093496   \n",
       "std      9009.147902        35021.345641    1705.596529     751.885081   \n",
       "min     43659.000000            1.000000       0.856500       1.328200   \n",
       "25%     49884.000000        30330.000000      10.842300      21.490000   \n",
       "50%     57029.000000        60659.000000     104.705200      49.990000   \n",
       "75%     65490.000000        90988.000000    1030.948800     602.346000   \n",
       "max     75123.000000       121317.000000   38530.385400    3578.270000   \n",
       "\n",
       "             Revenue         Profit    Status  \n",
       "count  121317.000000  121317.000000  121317.0  \n",
       "mean      905.449207      77.251363       5.0  \n",
       "std      1693.417389     404.866112       0.0  \n",
       "min         1.374000  -15099.745500       5.0  \n",
       "25%        24.990000       1.204600       5.0  \n",
       "50%       134.982000      13.452700       5.0  \n",
       "75%      1120.490000      43.813700       5.0  \n",
       "max     27893.619000    1487.835600       5.0  "
      ]
     },
     "execution_count": 20,
     "metadata": {},
     "output_type": "execute_result"
    }
   ],
   "source": [
    "#\n",
    "data.describe()"
   ]
  },
  {
   "cell_type": "code",
   "execution_count": 21,
   "metadata": {},
   "outputs": [
    {
     "name": "stdout",
     "output_type": "stream",
     "text": [
      "<class 'pandas.core.frame.DataFrame'>\n",
      "RangeIndex: 121317 entries, 0 to 121316\n",
      "Data columns (total 9 columns):\n",
      " #   Column              Non-Null Count   Dtype  \n",
      "---  ------              --------------   -----  \n",
      " 0   SalesOrderID        121317 non-null  int64  \n",
      " 1   SalesOrderDetailID  121317 non-null  int64  \n",
      " 2   Cost                121317 non-null  float64\n",
      " 3   UnitPrice           121317 non-null  float64\n",
      " 4   Revenue             121317 non-null  float64\n",
      " 5   Profit              121317 non-null  float64\n",
      " 6   Status              121317 non-null  int64  \n",
      " 7   OnlineOrderFlag     121317 non-null  object \n",
      " 8   OrderDate           121317 non-null  object \n",
      "dtypes: float64(4), int64(3), object(2)\n",
      "memory usage: 8.3+ MB\n"
     ]
    }
   ],
   "source": [
    "data.info()"
   ]
  },
  {
   "cell_type": "code",
   "execution_count": 22,
   "metadata": {},
   "outputs": [],
   "source": [
    "# Let's rename the columns for better understanding\n",
    "data = data.rename(columns={'OnlineOrderFlag':'Channels'})"
   ]
  },
  {
   "cell_type": "code",
   "execution_count": 23,
   "metadata": {},
   "outputs": [
    {
     "data": {
      "text/html": [
       "<div>\n",
       "<style scoped>\n",
       "    .dataframe tbody tr th:only-of-type {\n",
       "        vertical-align: middle;\n",
       "    }\n",
       "\n",
       "    .dataframe tbody tr th {\n",
       "        vertical-align: top;\n",
       "    }\n",
       "\n",
       "    .dataframe thead th {\n",
       "        text-align: right;\n",
       "    }\n",
       "</style>\n",
       "<table border=\"1\" class=\"dataframe\">\n",
       "  <thead>\n",
       "    <tr style=\"text-align: right;\">\n",
       "      <th></th>\n",
       "      <th>SalesOrderID</th>\n",
       "      <th>SalesOrderDetailID</th>\n",
       "      <th>Cost</th>\n",
       "      <th>UnitPrice</th>\n",
       "      <th>Revenue</th>\n",
       "      <th>Profit</th>\n",
       "      <th>Status</th>\n",
       "      <th>Channels</th>\n",
       "      <th>OrderDate</th>\n",
       "    </tr>\n",
       "  </thead>\n",
       "  <tbody>\n",
       "    <tr>\n",
       "      <th>0</th>\n",
       "      <td>43659</td>\n",
       "      <td>1</td>\n",
       "      <td>1898.0944</td>\n",
       "      <td>2024.994</td>\n",
       "      <td>2024.994</td>\n",
       "      <td>126.8996</td>\n",
       "      <td>5</td>\n",
       "      <td>Reseller</td>\n",
       "      <td>2011-05-31 00:00:00.000</td>\n",
       "    </tr>\n",
       "    <tr>\n",
       "      <th>1</th>\n",
       "      <td>43659</td>\n",
       "      <td>2</td>\n",
       "      <td>5694.2832</td>\n",
       "      <td>2024.994</td>\n",
       "      <td>6074.982</td>\n",
       "      <td>380.6988</td>\n",
       "      <td>5</td>\n",
       "      <td>Reseller</td>\n",
       "      <td>2011-05-31 00:00:00.000</td>\n",
       "    </tr>\n",
       "    <tr>\n",
       "      <th>2</th>\n",
       "      <td>43659</td>\n",
       "      <td>3</td>\n",
       "      <td>1898.0944</td>\n",
       "      <td>2024.994</td>\n",
       "      <td>2024.994</td>\n",
       "      <td>126.8996</td>\n",
       "      <td>5</td>\n",
       "      <td>Reseller</td>\n",
       "      <td>2011-05-31 00:00:00.000</td>\n",
       "    </tr>\n",
       "    <tr>\n",
       "      <th>3</th>\n",
       "      <td>43659</td>\n",
       "      <td>4</td>\n",
       "      <td>1912.1544</td>\n",
       "      <td>2039.994</td>\n",
       "      <td>2039.994</td>\n",
       "      <td>127.8396</td>\n",
       "      <td>5</td>\n",
       "      <td>Reseller</td>\n",
       "      <td>2011-05-31 00:00:00.000</td>\n",
       "    </tr>\n",
       "    <tr>\n",
       "      <th>4</th>\n",
       "      <td>43659</td>\n",
       "      <td>5</td>\n",
       "      <td>1912.1544</td>\n",
       "      <td>2039.994</td>\n",
       "      <td>2039.994</td>\n",
       "      <td>127.8396</td>\n",
       "      <td>5</td>\n",
       "      <td>Reseller</td>\n",
       "      <td>2011-05-31 00:00:00.000</td>\n",
       "    </tr>\n",
       "  </tbody>\n",
       "</table>\n",
       "</div>"
      ],
      "text/plain": [
       "   SalesOrderID  SalesOrderDetailID       Cost  UnitPrice   Revenue    Profit  \\\n",
       "0         43659                   1  1898.0944   2024.994  2024.994  126.8996   \n",
       "1         43659                   2  5694.2832   2024.994  6074.982  380.6988   \n",
       "2         43659                   3  1898.0944   2024.994  2024.994  126.8996   \n",
       "3         43659                   4  1912.1544   2039.994  2039.994  127.8396   \n",
       "4         43659                   5  1912.1544   2039.994  2039.994  127.8396   \n",
       "\n",
       "   Status  Channels                OrderDate  \n",
       "0       5  Reseller  2011-05-31 00:00:00.000  \n",
       "1       5  Reseller  2011-05-31 00:00:00.000  \n",
       "2       5  Reseller  2011-05-31 00:00:00.000  \n",
       "3       5  Reseller  2011-05-31 00:00:00.000  \n",
       "4       5  Reseller  2011-05-31 00:00:00.000  "
      ]
     },
     "execution_count": 23,
     "metadata": {},
     "output_type": "execute_result"
    }
   ],
   "source": [
    "data.head()"
   ]
  },
  {
   "cell_type": "code",
   "execution_count": 25,
   "metadata": {},
   "outputs": [],
   "source": [
    "# Let's extract only the date part from the OrderDate column\n",
    "data['OrderDate'] = pd.to_datetime(data['OrderDate']).dt.date"
   ]
  },
  {
   "cell_type": "code",
   "execution_count": 26,
   "metadata": {},
   "outputs": [
    {
     "data": {
      "text/html": [
       "<div>\n",
       "<style scoped>\n",
       "    .dataframe tbody tr th:only-of-type {\n",
       "        vertical-align: middle;\n",
       "    }\n",
       "\n",
       "    .dataframe tbody tr th {\n",
       "        vertical-align: top;\n",
       "    }\n",
       "\n",
       "    .dataframe thead th {\n",
       "        text-align: right;\n",
       "    }\n",
       "</style>\n",
       "<table border=\"1\" class=\"dataframe\">\n",
       "  <thead>\n",
       "    <tr style=\"text-align: right;\">\n",
       "      <th></th>\n",
       "      <th>SalesOrderID</th>\n",
       "      <th>SalesOrderDetailID</th>\n",
       "      <th>Cost</th>\n",
       "      <th>UnitPrice</th>\n",
       "      <th>Revenue</th>\n",
       "      <th>Profit</th>\n",
       "      <th>Status</th>\n",
       "      <th>Channels</th>\n",
       "      <th>OrderDate</th>\n",
       "    </tr>\n",
       "  </thead>\n",
       "  <tbody>\n",
       "    <tr>\n",
       "      <th>0</th>\n",
       "      <td>43659</td>\n",
       "      <td>1</td>\n",
       "      <td>1898.0944</td>\n",
       "      <td>2024.994</td>\n",
       "      <td>2024.994</td>\n",
       "      <td>126.8996</td>\n",
       "      <td>5</td>\n",
       "      <td>Reseller</td>\n",
       "      <td>2011-05-31</td>\n",
       "    </tr>\n",
       "    <tr>\n",
       "      <th>1</th>\n",
       "      <td>43659</td>\n",
       "      <td>2</td>\n",
       "      <td>5694.2832</td>\n",
       "      <td>2024.994</td>\n",
       "      <td>6074.982</td>\n",
       "      <td>380.6988</td>\n",
       "      <td>5</td>\n",
       "      <td>Reseller</td>\n",
       "      <td>2011-05-31</td>\n",
       "    </tr>\n",
       "    <tr>\n",
       "      <th>2</th>\n",
       "      <td>43659</td>\n",
       "      <td>3</td>\n",
       "      <td>1898.0944</td>\n",
       "      <td>2024.994</td>\n",
       "      <td>2024.994</td>\n",
       "      <td>126.8996</td>\n",
       "      <td>5</td>\n",
       "      <td>Reseller</td>\n",
       "      <td>2011-05-31</td>\n",
       "    </tr>\n",
       "    <tr>\n",
       "      <th>3</th>\n",
       "      <td>43659</td>\n",
       "      <td>4</td>\n",
       "      <td>1912.1544</td>\n",
       "      <td>2039.994</td>\n",
       "      <td>2039.994</td>\n",
       "      <td>127.8396</td>\n",
       "      <td>5</td>\n",
       "      <td>Reseller</td>\n",
       "      <td>2011-05-31</td>\n",
       "    </tr>\n",
       "    <tr>\n",
       "      <th>4</th>\n",
       "      <td>43659</td>\n",
       "      <td>5</td>\n",
       "      <td>1912.1544</td>\n",
       "      <td>2039.994</td>\n",
       "      <td>2039.994</td>\n",
       "      <td>127.8396</td>\n",
       "      <td>5</td>\n",
       "      <td>Reseller</td>\n",
       "      <td>2011-05-31</td>\n",
       "    </tr>\n",
       "  </tbody>\n",
       "</table>\n",
       "</div>"
      ],
      "text/plain": [
       "   SalesOrderID  SalesOrderDetailID       Cost  UnitPrice   Revenue    Profit  \\\n",
       "0         43659                   1  1898.0944   2024.994  2024.994  126.8996   \n",
       "1         43659                   2  5694.2832   2024.994  6074.982  380.6988   \n",
       "2         43659                   3  1898.0944   2024.994  2024.994  126.8996   \n",
       "3         43659                   4  1912.1544   2039.994  2039.994  127.8396   \n",
       "4         43659                   5  1912.1544   2039.994  2039.994  127.8396   \n",
       "\n",
       "   Status  Channels   OrderDate  \n",
       "0       5  Reseller  2011-05-31  \n",
       "1       5  Reseller  2011-05-31  \n",
       "2       5  Reseller  2011-05-31  \n",
       "3       5  Reseller  2011-05-31  \n",
       "4       5  Reseller  2011-05-31  "
      ]
     },
     "execution_count": 26,
     "metadata": {},
     "output_type": "execute_result"
    }
   ],
   "source": [
    "data.head()"
   ]
  },
  {
   "cell_type": "code",
   "execution_count": 24,
   "metadata": {},
   "outputs": [
    {
     "data": {
      "text/plain": [
       "Channels\n",
       "Reseller    60919\n",
       "Online      60398\n",
       "Name: count, dtype: int64"
      ]
     },
     "execution_count": 24,
     "metadata": {},
     "output_type": "execute_result"
    }
   ],
   "source": [
    "# check for the count of each market segment\n",
    "data['Channels'].value_counts()"
   ]
  },
  {
   "cell_type": "code",
   "execution_count": 7,
   "metadata": {},
   "outputs": [
    {
     "data": {
      "text/plain": [
       "<Axes: xlabel='OnlineOrderFlag'>"
      ]
     },
     "execution_count": 7,
     "metadata": {},
     "output_type": "execute_result"
    },
    {
     "data": {
      "image/png": "[encoded data removed]",
      "text/plain": [
       "<Figure size 640x480 with 1 Axes>"
      ]
     },
     "metadata": {},
     "output_type": "display_data"
    }
   ],
   "source": [
    "data['OnlineOrderFlag'].value_counts().plot(kind='bar')"
   ]
  },
  {
   "cell_type": "code",
   "execution_count": 8,
   "metadata": {},
   "outputs": [
    {
     "data": {
      "text/plain": [
       "<Axes: xlabel='OnlineOrderFlag'>"
      ]
     },
     "execution_count": 8,
     "metadata": {},
     "output_type": "execute_result"
    },
    {
     "data": {
      "image/png": "[encoded data removed]",
      "text/plain": [
       "<Figure size 640x480 with 1 Axes>"
      ]
     },
     "metadata": {},
     "output_type": "display_data"
    }
   ],
   "source": [
    "data['Profit'].groupby(data['OnlineOrderFlag']).max().plot(kind='bar')\n"
   ]
  },
  {
   "cell_type": "code",
   "execution_count": 11,
   "metadata": {},
   "outputs": [],
   "source": [
    "data['TotalProfit'] = data['Profit'].groupby(data['OnlineOrderFlag']).transform('sum')"
   ]
  },
  {
   "cell_type": "code",
   "execution_count": 12,
   "metadata": {},
   "outputs": [
    {
     "data": {
      "text/html": [
       "<div>\n",
       "<style scoped>\n",
       "    .dataframe tbody tr th:only-of-type {\n",
       "        vertical-align: middle;\n",
       "    }\n",
       "\n",
       "    .dataframe tbody tr th {\n",
       "        vertical-align: top;\n",
       "    }\n",
       "\n",
       "    .dataframe thead th {\n",
       "        text-align: right;\n",
       "    }\n",
       "</style>\n",
       "<table border=\"1\" class=\"dataframe\">\n",
       "  <thead>\n",
       "    <tr style=\"text-align: right;\">\n",
       "      <th></th>\n",
       "      <th>SalesOrderID</th>\n",
       "      <th>SalesOrderDetailID</th>\n",
       "      <th>Cost</th>\n",
       "      <th>UnitPrice</th>\n",
       "      <th>Revenue</th>\n",
       "      <th>Profit</th>\n",
       "      <th>Status</th>\n",
       "      <th>OnlineOrderFlag</th>\n",
       "      <th>OrderDate</th>\n",
       "      <th>TotalProfit</th>\n",
       "    </tr>\n",
       "  </thead>\n",
       "  <tbody>\n",
       "    <tr>\n",
       "      <th>0</th>\n",
       "      <td>43659</td>\n",
       "      <td>1</td>\n",
       "      <td>1898.0944</td>\n",
       "      <td>2024.994</td>\n",
       "      <td>2024.994</td>\n",
       "      <td>126.8996</td>\n",
       "      <td>5</td>\n",
       "      <td>Reseller</td>\n",
       "      <td>2011-05-31 00:00:00.000</td>\n",
       "      <td>-2.316039e+06</td>\n",
       "    </tr>\n",
       "    <tr>\n",
       "      <th>1</th>\n",
       "      <td>43659</td>\n",
       "      <td>2</td>\n",
       "      <td>5694.2832</td>\n",
       "      <td>2024.994</td>\n",
       "      <td>6074.982</td>\n",
       "      <td>380.6988</td>\n",
       "      <td>5</td>\n",
       "      <td>Reseller</td>\n",
       "      <td>2011-05-31 00:00:00.000</td>\n",
       "      <td>-2.316039e+06</td>\n",
       "    </tr>\n",
       "    <tr>\n",
       "      <th>2</th>\n",
       "      <td>43659</td>\n",
       "      <td>3</td>\n",
       "      <td>1898.0944</td>\n",
       "      <td>2024.994</td>\n",
       "      <td>2024.994</td>\n",
       "      <td>126.8996</td>\n",
       "      <td>5</td>\n",
       "      <td>Reseller</td>\n",
       "      <td>2011-05-31 00:00:00.000</td>\n",
       "      <td>-2.316039e+06</td>\n",
       "    </tr>\n",
       "    <tr>\n",
       "      <th>3</th>\n",
       "      <td>43659</td>\n",
       "      <td>4</td>\n",
       "      <td>1912.1544</td>\n",
       "      <td>2039.994</td>\n",
       "      <td>2039.994</td>\n",
       "      <td>127.8396</td>\n",
       "      <td>5</td>\n",
       "      <td>Reseller</td>\n",
       "      <td>2011-05-31 00:00:00.000</td>\n",
       "      <td>-2.316039e+06</td>\n",
       "    </tr>\n",
       "    <tr>\n",
       "      <th>4</th>\n",
       "      <td>43659</td>\n",
       "      <td>5</td>\n",
       "      <td>1912.1544</td>\n",
       "      <td>2039.994</td>\n",
       "      <td>2039.994</td>\n",
       "      <td>127.8396</td>\n",
       "      <td>5</td>\n",
       "      <td>Reseller</td>\n",
       "      <td>2011-05-31 00:00:00.000</td>\n",
       "      <td>-2.316039e+06</td>\n",
       "    </tr>\n",
       "  </tbody>\n",
       "</table>\n",
       "</div>"
      ],
      "text/plain": [
       "   SalesOrderID  SalesOrderDetailID       Cost  UnitPrice   Revenue    Profit  \\\n",
       "0         43659                   1  1898.0944   2024.994  2024.994  126.8996   \n",
       "1         43659                   2  5694.2832   2024.994  6074.982  380.6988   \n",
       "2         43659                   3  1898.0944   2024.994  2024.994  126.8996   \n",
       "3         43659                   4  1912.1544   2039.994  2039.994  127.8396   \n",
       "4         43659                   5  1912.1544   2039.994  2039.994  127.8396   \n",
       "\n",
       "   Status OnlineOrderFlag                OrderDate   TotalProfit  \n",
       "0       5        Reseller  2011-05-31 00:00:00.000 -2.316039e+06  \n",
       "1       5        Reseller  2011-05-31 00:00:00.000 -2.316039e+06  \n",
       "2       5        Reseller  2011-05-31 00:00:00.000 -2.316039e+06  \n",
       "3       5        Reseller  2011-05-31 00:00:00.000 -2.316039e+06  \n",
       "4       5        Reseller  2011-05-31 00:00:00.000 -2.316039e+06  "
      ]
     },
     "execution_count": 12,
     "metadata": {},
     "output_type": "execute_result"
    }
   ],
   "source": [
    "data.head()"
   ]
  },
  {
   "cell_type": "code",
   "execution_count": 14,
   "metadata": {},
   "outputs": [
    {
     "data": {
      "text/plain": [
       "OnlineOrderFlag\n",
       "Online      1.168794e+07\n",
       "Reseller   -2.316039e+06\n",
       "Name: Profit, dtype: float64"
      ]
     },
     "execution_count": 14,
     "metadata": {},
     "output_type": "execute_result"
    }
   ],
   "source": [
    "data['Profit'].groupby(data['OnlineOrderFlag']).sum()"
   ]
  }
 ],
 "metadata": {
  "kernelspec": {
   "display_name": "Python 3",
   "language": "python",
   "name": "python3"
  },
  "language_info": {
   "codemirror_mode": {
    "name": "ipython",
    "version": 3
   },
   "file_extension": ".py",
   "mimetype": "text/x-python",
   "name": "python",
   "nbconvert_exporter": "python",
   "pygments_lexer": "ipython3",
   "version": "3.12.8"
  }
 },
 "nbformat": 4,
 "nbformat_minor": 2
}
