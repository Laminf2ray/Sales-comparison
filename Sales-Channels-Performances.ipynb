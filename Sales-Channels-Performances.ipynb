{
 "cells": [
  {
   "cell_type": "markdown",
   "metadata": {},
   "source": [
    "A manufacturing company has been experiancing a shift in the market place towards digital possibly leading a decline in its store sale (Resellers).\n",
    "\n",
    "1. Shift in the market place towards digital - Is this true? Can we prove it with the data?\n",
    "\n",
    "    A. We upload the data (Marketplacedata.csv)- the file contains both the online and store sales data.\n",
    "    \n",
    "    B. We will compare sales (revenue, profit, volume of transactions and items sold(order quantities) over time) "
   ]
  },
  {
   "cell_type": "code",
   "execution_count": 1,
   "metadata": {},
   "outputs": [],
   "source": [
    "# import libraries\n",
    "import pandas as pd\n",
    "import numpy as np \n",
    "import matplotlib.pyplot as plt\n",
    "%matplotlib inline\n"
   ]
  },
  {
   "cell_type": "code",
   "execution_count": 2,
   "metadata": {},
   "outputs": [
    {
     "data": {
      "text/html": [
       "<div>\n",
       "<style scoped>\n",
       "    .dataframe tbody tr th:only-of-type {\n",
       "        vertical-align: middle;\n",
       "    }\n",
       "\n",
       "    .dataframe tbody tr th {\n",
       "        vertical-align: top;\n",
       "    }\n",
       "\n",
       "    .dataframe thead th {\n",
       "        text-align: right;\n",
       "    }\n",
       "</style>\n",
       "<table border=\"1\" class=\"dataframe\">\n",
       "  <thead>\n",
       "    <tr style=\"text-align: right;\">\n",
       "      <th></th>\n",
       "      <th>SalesOrderID</th>\n",
       "      <th>SalesOrderDetailID</th>\n",
       "      <th>OrderQty</th>\n",
       "      <th>Cost</th>\n",
       "      <th>UnitPrice</th>\n",
       "      <th>Revenue</th>\n",
       "      <th>Profit</th>\n",
       "      <th>OnlineOrderFlag</th>\n",
       "      <th>OrderDate</th>\n",
       "    </tr>\n",
       "  </thead>\n",
       "  <tbody>\n",
       "    <tr>\n",
       "      <th>0</th>\n",
       "      <td>43659</td>\n",
       "      <td>1</td>\n",
       "      <td>1</td>\n",
       "      <td>1898.0944</td>\n",
       "      <td>2024.994</td>\n",
       "      <td>2024.994</td>\n",
       "      <td>126.8996</td>\n",
       "      <td>Reseller</td>\n",
       "      <td>2011-05-31 00:00:00.000</td>\n",
       "    </tr>\n",
       "    <tr>\n",
       "      <th>1</th>\n",
       "      <td>43659</td>\n",
       "      <td>2</td>\n",
       "      <td>3</td>\n",
       "      <td>5694.2832</td>\n",
       "      <td>2024.994</td>\n",
       "      <td>6074.982</td>\n",
       "      <td>380.6988</td>\n",
       "      <td>Reseller</td>\n",
       "      <td>2011-05-31 00:00:00.000</td>\n",
       "    </tr>\n",
       "    <tr>\n",
       "      <th>2</th>\n",
       "      <td>43659</td>\n",
       "      <td>3</td>\n",
       "      <td>1</td>\n",
       "      <td>1898.0944</td>\n",
       "      <td>2024.994</td>\n",
       "      <td>2024.994</td>\n",
       "      <td>126.8996</td>\n",
       "      <td>Reseller</td>\n",
       "      <td>2011-05-31 00:00:00.000</td>\n",
       "    </tr>\n",
       "    <tr>\n",
       "      <th>3</th>\n",
       "      <td>43659</td>\n",
       "      <td>4</td>\n",
       "      <td>1</td>\n",
       "      <td>1912.1544</td>\n",
       "      <td>2039.994</td>\n",
       "      <td>2039.994</td>\n",
       "      <td>127.8396</td>\n",
       "      <td>Reseller</td>\n",
       "      <td>2011-05-31 00:00:00.000</td>\n",
       "    </tr>\n",
       "    <tr>\n",
       "      <th>4</th>\n",
       "      <td>43659</td>\n",
       "      <td>5</td>\n",
       "      <td>1</td>\n",
       "      <td>1912.1544</td>\n",
       "      <td>2039.994</td>\n",
       "      <td>2039.994</td>\n",
       "      <td>127.8396</td>\n",
       "      <td>Reseller</td>\n",
       "      <td>2011-05-31 00:00:00.000</td>\n",
       "    </tr>\n",
       "  </tbody>\n",
       "</table>\n",
       "</div>"
      ],
      "text/plain": [
       "   SalesOrderID  SalesOrderDetailID  OrderQty       Cost  UnitPrice   Revenue  \\\n",
       "0         43659                   1         1  1898.0944   2024.994  2024.994   \n",
       "1         43659                   2         3  5694.2832   2024.994  6074.982   \n",
       "2         43659                   3         1  1898.0944   2024.994  2024.994   \n",
       "3         43659                   4         1  1912.1544   2039.994  2039.994   \n",
       "4         43659                   5         1  1912.1544   2039.994  2039.994   \n",
       "\n",
       "     Profit OnlineOrderFlag                OrderDate  \n",
       "0  126.8996        Reseller  2011-05-31 00:00:00.000  \n",
       "1  380.6988        Reseller  2011-05-31 00:00:00.000  \n",
       "2  126.8996        Reseller  2011-05-31 00:00:00.000  \n",
       "3  127.8396        Reseller  2011-05-31 00:00:00.000  \n",
       "4  127.8396        Reseller  2011-05-31 00:00:00.000  "
      ]
     },
     "execution_count": 2,
     "metadata": {},
     "output_type": "execute_result"
    }
   ],
   "source": [
    "# read the data\n",
    "data = pd.read_csv('Marketplacedata.csv')\n",
    "data.head()"
   ]
  },
  {
   "cell_type": "code",
   "execution_count": 3,
   "metadata": {},
   "outputs": [
    {
     "data": {
      "text/plain": [
       "(121317, 9)"
      ]
     },
     "execution_count": 3,
     "metadata": {},
     "output_type": "execute_result"
    }
   ],
   "source": [
    "# check the shape of the data\n",
    "data.shape"
   ]
  },
  {
   "cell_type": "code",
   "execution_count": 4,
   "metadata": {},
   "outputs": [
    {
     "data": {
      "text/html": [
       "<div>\n",
       "<style scoped>\n",
       "    .dataframe tbody tr th:only-of-type {\n",
       "        vertical-align: middle;\n",
       "    }\n",
       "\n",
       "    .dataframe tbody tr th {\n",
       "        vertical-align: top;\n",
       "    }\n",
       "\n",
       "    .dataframe thead th {\n",
       "        text-align: right;\n",
       "    }\n",
       "</style>\n",
       "<table border=\"1\" class=\"dataframe\">\n",
       "  <thead>\n",
       "    <tr style=\"text-align: right;\">\n",
       "      <th></th>\n",
       "      <th>SalesOrderID</th>\n",
       "      <th>SalesOrderDetailID</th>\n",
       "      <th>OrderQty</th>\n",
       "      <th>Cost</th>\n",
       "      <th>UnitPrice</th>\n",
       "      <th>Revenue</th>\n",
       "      <th>Profit</th>\n",
       "    </tr>\n",
       "  </thead>\n",
       "  <tbody>\n",
       "    <tr>\n",
       "      <th>count</th>\n",
       "      <td>121317.000000</td>\n",
       "      <td>121317.000000</td>\n",
       "      <td>121317.000000</td>\n",
       "      <td>121317.000000</td>\n",
       "      <td>121317.000000</td>\n",
       "      <td>121317.000000</td>\n",
       "      <td>121317.000000</td>\n",
       "    </tr>\n",
       "    <tr>\n",
       "      <th>mean</th>\n",
       "      <td>57827.363782</td>\n",
       "      <td>60659.000000</td>\n",
       "      <td>2.266080</td>\n",
       "      <td>828.197843</td>\n",
       "      <td>465.093496</td>\n",
       "      <td>905.449207</td>\n",
       "      <td>77.251363</td>\n",
       "    </tr>\n",
       "    <tr>\n",
       "      <th>std</th>\n",
       "      <td>9009.147902</td>\n",
       "      <td>35021.345641</td>\n",
       "      <td>2.491323</td>\n",
       "      <td>1705.596529</td>\n",
       "      <td>751.885081</td>\n",
       "      <td>1693.417389</td>\n",
       "      <td>404.866112</td>\n",
       "    </tr>\n",
       "    <tr>\n",
       "      <th>min</th>\n",
       "      <td>43659.000000</td>\n",
       "      <td>1.000000</td>\n",
       "      <td>1.000000</td>\n",
       "      <td>0.856500</td>\n",
       "      <td>1.328200</td>\n",
       "      <td>1.374000</td>\n",
       "      <td>-15099.745500</td>\n",
       "    </tr>\n",
       "    <tr>\n",
       "      <th>25%</th>\n",
       "      <td>49884.000000</td>\n",
       "      <td>30330.000000</td>\n",
       "      <td>1.000000</td>\n",
       "      <td>10.842300</td>\n",
       "      <td>21.490000</td>\n",
       "      <td>24.990000</td>\n",
       "      <td>1.204600</td>\n",
       "    </tr>\n",
       "    <tr>\n",
       "      <th>50%</th>\n",
       "      <td>57029.000000</td>\n",
       "      <td>60659.000000</td>\n",
       "      <td>1.000000</td>\n",
       "      <td>104.705200</td>\n",
       "      <td>49.990000</td>\n",
       "      <td>134.982000</td>\n",
       "      <td>13.452700</td>\n",
       "    </tr>\n",
       "    <tr>\n",
       "      <th>75%</th>\n",
       "      <td>65490.000000</td>\n",
       "      <td>90988.000000</td>\n",
       "      <td>3.000000</td>\n",
       "      <td>1030.948800</td>\n",
       "      <td>602.346000</td>\n",
       "      <td>1120.490000</td>\n",
       "      <td>43.813700</td>\n",
       "    </tr>\n",
       "    <tr>\n",
       "      <th>max</th>\n",
       "      <td>75123.000000</td>\n",
       "      <td>121317.000000</td>\n",
       "      <td>44.000000</td>\n",
       "      <td>38530.385400</td>\n",
       "      <td>3578.270000</td>\n",
       "      <td>27893.619000</td>\n",
       "      <td>1487.835600</td>\n",
       "    </tr>\n",
       "  </tbody>\n",
       "</table>\n",
       "</div>"
      ],
      "text/plain": [
       "        SalesOrderID  SalesOrderDetailID       OrderQty           Cost  \\\n",
       "count  121317.000000       121317.000000  121317.000000  121317.000000   \n",
       "mean    57827.363782        60659.000000       2.266080     828.197843   \n",
       "std      9009.147902        35021.345641       2.491323    1705.596529   \n",
       "min     43659.000000            1.000000       1.000000       0.856500   \n",
       "25%     49884.000000        30330.000000       1.000000      10.842300   \n",
       "50%     57029.000000        60659.000000       1.000000     104.705200   \n",
       "75%     65490.000000        90988.000000       3.000000    1030.948800   \n",
       "max     75123.000000       121317.000000      44.000000   38530.385400   \n",
       "\n",
       "           UnitPrice        Revenue         Profit  \n",
       "count  121317.000000  121317.000000  121317.000000  \n",
       "mean      465.093496     905.449207      77.251363  \n",
       "std       751.885081    1693.417389     404.866112  \n",
       "min         1.328200       1.374000  -15099.745500  \n",
       "25%        21.490000      24.990000       1.204600  \n",
       "50%        49.990000     134.982000      13.452700  \n",
       "75%       602.346000    1120.490000      43.813700  \n",
       "max      3578.270000   27893.619000    1487.835600  "
      ]
     },
     "execution_count": 4,
     "metadata": {},
     "output_type": "execute_result"
    }
   ],
   "source": [
    "#\n",
    "data.describe()"
   ]
  },
  {
   "cell_type": "code",
   "execution_count": 5,
   "metadata": {},
   "outputs": [
    {
     "name": "stdout",
     "output_type": "stream",
     "text": [
      "<class 'pandas.core.frame.DataFrame'>\n",
      "RangeIndex: 121317 entries, 0 to 121316\n",
      "Data columns (total 9 columns):\n",
      " #   Column              Non-Null Count   Dtype  \n",
      "---  ------              --------------   -----  \n",
      " 0   SalesOrderID        121317 non-null  int64  \n",
      " 1   SalesOrderDetailID  121317 non-null  int64  \n",
      " 2   OrderQty            121317 non-null  int64  \n",
      " 3   Cost                121317 non-null  float64\n",
      " 4   UnitPrice           121317 non-null  float64\n",
      " 5   Revenue             121317 non-null  float64\n",
      " 6   Profit              121317 non-null  float64\n",
      " 7   OnlineOrderFlag     121317 non-null  object \n",
      " 8   OrderDate           121317 non-null  object \n",
      "dtypes: float64(4), int64(3), object(2)\n",
      "memory usage: 8.3+ MB\n"
     ]
    }
   ],
   "source": [
    "data.info()"
   ]
  },
  {
   "cell_type": "code",
   "execution_count": 6,
   "metadata": {},
   "outputs": [],
   "source": [
    "# Let's rename the columns for better understanding\n",
    "data = data.rename(columns={'OnlineOrderFlag':'Channels'})"
   ]
  },
  {
   "cell_type": "code",
   "execution_count": 7,
   "metadata": {},
   "outputs": [
    {
     "data": {
      "text/html": [
       "<div>\n",
       "<style scoped>\n",
       "    .dataframe tbody tr th:only-of-type {\n",
       "        vertical-align: middle;\n",
       "    }\n",
       "\n",
       "    .dataframe tbody tr th {\n",
       "        vertical-align: top;\n",
       "    }\n",
       "\n",
       "    .dataframe thead th {\n",
       "        text-align: right;\n",
       "    }\n",
       "</style>\n",
       "<table border=\"1\" class=\"dataframe\">\n",
       "  <thead>\n",
       "    <tr style=\"text-align: right;\">\n",
       "      <th></th>\n",
       "      <th>SalesOrderID</th>\n",
       "      <th>SalesOrderDetailID</th>\n",
       "      <th>OrderQty</th>\n",
       "      <th>Cost</th>\n",
       "      <th>UnitPrice</th>\n",
       "      <th>Revenue</th>\n",
       "      <th>Profit</th>\n",
       "      <th>Channels</th>\n",
       "      <th>OrderDate</th>\n",
       "    </tr>\n",
       "  </thead>\n",
       "  <tbody>\n",
       "    <tr>\n",
       "      <th>0</th>\n",
       "      <td>43659</td>\n",
       "      <td>1</td>\n",
       "      <td>1</td>\n",
       "      <td>1898.0944</td>\n",
       "      <td>2024.994</td>\n",
       "      <td>2024.994</td>\n",
       "      <td>126.8996</td>\n",
       "      <td>Reseller</td>\n",
       "      <td>2011-05-31 00:00:00.000</td>\n",
       "    </tr>\n",
       "    <tr>\n",
       "      <th>1</th>\n",
       "      <td>43659</td>\n",
       "      <td>2</td>\n",
       "      <td>3</td>\n",
       "      <td>5694.2832</td>\n",
       "      <td>2024.994</td>\n",
       "      <td>6074.982</td>\n",
       "      <td>380.6988</td>\n",
       "      <td>Reseller</td>\n",
       "      <td>2011-05-31 00:00:00.000</td>\n",
       "    </tr>\n",
       "    <tr>\n",
       "      <th>2</th>\n",
       "      <td>43659</td>\n",
       "      <td>3</td>\n",
       "      <td>1</td>\n",
       "      <td>1898.0944</td>\n",
       "      <td>2024.994</td>\n",
       "      <td>2024.994</td>\n",
       "      <td>126.8996</td>\n",
       "      <td>Reseller</td>\n",
       "      <td>2011-05-31 00:00:00.000</td>\n",
       "    </tr>\n",
       "    <tr>\n",
       "      <th>3</th>\n",
       "      <td>43659</td>\n",
       "      <td>4</td>\n",
       "      <td>1</td>\n",
       "      <td>1912.1544</td>\n",
       "      <td>2039.994</td>\n",
       "      <td>2039.994</td>\n",
       "      <td>127.8396</td>\n",
       "      <td>Reseller</td>\n",
       "      <td>2011-05-31 00:00:00.000</td>\n",
       "    </tr>\n",
       "    <tr>\n",
       "      <th>4</th>\n",
       "      <td>43659</td>\n",
       "      <td>5</td>\n",
       "      <td>1</td>\n",
       "      <td>1912.1544</td>\n",
       "      <td>2039.994</td>\n",
       "      <td>2039.994</td>\n",
       "      <td>127.8396</td>\n",
       "      <td>Reseller</td>\n",
       "      <td>2011-05-31 00:00:00.000</td>\n",
       "    </tr>\n",
       "  </tbody>\n",
       "</table>\n",
       "</div>"
      ],
      "text/plain": [
       "   SalesOrderID  SalesOrderDetailID  OrderQty       Cost  UnitPrice   Revenue  \\\n",
       "0         43659                   1         1  1898.0944   2024.994  2024.994   \n",
       "1         43659                   2         3  5694.2832   2024.994  6074.982   \n",
       "2         43659                   3         1  1898.0944   2024.994  2024.994   \n",
       "3         43659                   4         1  1912.1544   2039.994  2039.994   \n",
       "4         43659                   5         1  1912.1544   2039.994  2039.994   \n",
       "\n",
       "     Profit  Channels                OrderDate  \n",
       "0  126.8996  Reseller  2011-05-31 00:00:00.000  \n",
       "1  380.6988  Reseller  2011-05-31 00:00:00.000  \n",
       "2  126.8996  Reseller  2011-05-31 00:00:00.000  \n",
       "3  127.8396  Reseller  2011-05-31 00:00:00.000  \n",
       "4  127.8396  Reseller  2011-05-31 00:00:00.000  "
      ]
     },
     "execution_count": 7,
     "metadata": {},
     "output_type": "execute_result"
    }
   ],
   "source": [
    "data.head()"
   ]
  },
  {
   "cell_type": "code",
   "execution_count": 8,
   "metadata": {},
   "outputs": [],
   "source": [
    "# Let's extract only the date part from the OrderDate column\n",
    "data['OrderDate'] = pd.to_datetime(data['OrderDate']).dt.date"
   ]
  },
  {
   "cell_type": "code",
   "execution_count": 9,
   "metadata": {},
   "outputs": [
    {
     "data": {
      "text/html": [
       "<div>\n",
       "<style scoped>\n",
       "    .dataframe tbody tr th:only-of-type {\n",
       "        vertical-align: middle;\n",
       "    }\n",
       "\n",
       "    .dataframe tbody tr th {\n",
       "        vertical-align: top;\n",
       "    }\n",
       "\n",
       "    .dataframe thead th {\n",
       "        text-align: right;\n",
       "    }\n",
       "</style>\n",
       "<table border=\"1\" class=\"dataframe\">\n",
       "  <thead>\n",
       "    <tr style=\"text-align: right;\">\n",
       "      <th></th>\n",
       "      <th>SalesOrderID</th>\n",
       "      <th>SalesOrderDetailID</th>\n",
       "      <th>OrderQty</th>\n",
       "      <th>Cost</th>\n",
       "      <th>UnitPrice</th>\n",
       "      <th>Revenue</th>\n",
       "      <th>Profit</th>\n",
       "      <th>Channels</th>\n",
       "      <th>OrderDate</th>\n",
       "    </tr>\n",
       "  </thead>\n",
       "  <tbody>\n",
       "    <tr>\n",
       "      <th>0</th>\n",
       "      <td>43659</td>\n",
       "      <td>1</td>\n",
       "      <td>1</td>\n",
       "      <td>1898.0944</td>\n",
       "      <td>2024.994</td>\n",
       "      <td>2024.994</td>\n",
       "      <td>126.8996</td>\n",
       "      <td>Reseller</td>\n",
       "      <td>2011-05-31</td>\n",
       "    </tr>\n",
       "    <tr>\n",
       "      <th>1</th>\n",
       "      <td>43659</td>\n",
       "      <td>2</td>\n",
       "      <td>3</td>\n",
       "      <td>5694.2832</td>\n",
       "      <td>2024.994</td>\n",
       "      <td>6074.982</td>\n",
       "      <td>380.6988</td>\n",
       "      <td>Reseller</td>\n",
       "      <td>2011-05-31</td>\n",
       "    </tr>\n",
       "    <tr>\n",
       "      <th>2</th>\n",
       "      <td>43659</td>\n",
       "      <td>3</td>\n",
       "      <td>1</td>\n",
       "      <td>1898.0944</td>\n",
       "      <td>2024.994</td>\n",
       "      <td>2024.994</td>\n",
       "      <td>126.8996</td>\n",
       "      <td>Reseller</td>\n",
       "      <td>2011-05-31</td>\n",
       "    </tr>\n",
       "    <tr>\n",
       "      <th>3</th>\n",
       "      <td>43659</td>\n",
       "      <td>4</td>\n",
       "      <td>1</td>\n",
       "      <td>1912.1544</td>\n",
       "      <td>2039.994</td>\n",
       "      <td>2039.994</td>\n",
       "      <td>127.8396</td>\n",
       "      <td>Reseller</td>\n",
       "      <td>2011-05-31</td>\n",
       "    </tr>\n",
       "    <tr>\n",
       "      <th>4</th>\n",
       "      <td>43659</td>\n",
       "      <td>5</td>\n",
       "      <td>1</td>\n",
       "      <td>1912.1544</td>\n",
       "      <td>2039.994</td>\n",
       "      <td>2039.994</td>\n",
       "      <td>127.8396</td>\n",
       "      <td>Reseller</td>\n",
       "      <td>2011-05-31</td>\n",
       "    </tr>\n",
       "  </tbody>\n",
       "</table>\n",
       "</div>"
      ],
      "text/plain": [
       "   SalesOrderID  SalesOrderDetailID  OrderQty       Cost  UnitPrice   Revenue  \\\n",
       "0         43659                   1         1  1898.0944   2024.994  2024.994   \n",
       "1         43659                   2         3  5694.2832   2024.994  6074.982   \n",
       "2         43659                   3         1  1898.0944   2024.994  2024.994   \n",
       "3         43659                   4         1  1912.1544   2039.994  2039.994   \n",
       "4         43659                   5         1  1912.1544   2039.994  2039.994   \n",
       "\n",
       "     Profit  Channels   OrderDate  \n",
       "0  126.8996  Reseller  2011-05-31  \n",
       "1  380.6988  Reseller  2011-05-31  \n",
       "2  126.8996  Reseller  2011-05-31  \n",
       "3  127.8396  Reseller  2011-05-31  \n",
       "4  127.8396  Reseller  2011-05-31  "
      ]
     },
     "execution_count": 9,
     "metadata": {},
     "output_type": "execute_result"
    }
   ],
   "source": [
    "data.head()"
   ]
  },
  {
   "cell_type": "code",
   "execution_count": 24,
   "metadata": {},
   "outputs": [
    {
     "data": {
      "text/plain": [
       "Channels\n",
       "Reseller    60919\n",
       "Online      60398\n",
       "Name: count, dtype: int64"
      ]
     },
     "execution_count": 24,
     "metadata": {},
     "output_type": "execute_result"
    }
   ],
   "source": [
    "# check for the count of each market segment\n",
    "data['Channels'].value_counts()"
   ]
  },
  {
   "cell_type": "code",
   "execution_count": null,
   "metadata": {},
   "outputs": [
    {
     "data": {
      "text/plain": [
       "<Axes: xlabel='Channels'>"
      ]
     },
     "execution_count": 10,
     "metadata": {},
     "output_type": "execute_result"
    },
    {
     "data": {
      "image/png": "[encoded data removed]",
      "text/plain": [
       "<Figure size 640x480 with 1 Axes>"
      ]
     },
     "metadata": {},
     "output_type": "display_data"
    }
   ],
   "source": [
    "# plot the count of each market segment\n",
    "data['Channels'].value_counts().plot(kind='bar')"
   ]
  },
  {
   "cell_type": "code",
   "execution_count": 28,
   "metadata": {},
   "outputs": [
    {
     "name": "stdout",
     "output_type": "stream",
     "text": [
      "Total Transaction Volume: 274914\n"
     ]
    }
   ],
   "source": [
    "# Calculate the total transaction volume for each market segment\n",
    "total_volume =data['OrderQty'].sum()\n",
    "print('Total Transaction Volume:',total_volume)"
   ]
  },
  {
   "cell_type": "code",
   "execution_count": 36,
   "metadata": {},
   "outputs": [
    {
     "data": {
      "text/plain": [
       "Channels\n",
       "Online       60398\n",
       "Reseller    214516\n",
       "Name: OrderQty, dtype: int64"
      ]
     },
     "execution_count": 36,
     "metadata": {},
     "output_type": "execute_result"
    }
   ],
   "source": [
    "# Let's compute the total transaction volume for each market segment\n",
    "data.groupby('Channels')['OrderQty'].sum()"
   ]
  },
  {
   "cell_type": "code",
   "execution_count": 35,
   "metadata": {},
   "outputs": [
    {
     "data": {
      "text/plain": [
       "<Axes: xlabel='Channels'>"
      ]
     },
     "execution_count": 35,
     "metadata": {},
     "output_type": "execute_result"
    },
    {
     "data": {
      "image/png": "[encoded data removed]",
      "text/plain": [
       "<Figure size 640x480 with 1 Axes>"
      ]
     },
     "metadata": {},
     "output_type": "display_data"
    }
   ],
   "source": [
    "# plot the total transaction volume for each market segment\n",
    "data.groupby('Channels')['OrderQty'].sum().plot(kind='bar')"
   ]
  },
  {
   "cell_type": "code",
   "execution_count": 13,
   "metadata": {},
   "outputs": [
    {
     "data": {
      "text/plain": [
       "Channels\n",
       "Online      29.358677\n",
       "Reseller    80.487704\n",
       "Name: Revenue, dtype: float64"
      ]
     },
     "execution_count": 13,
     "metadata": {},
     "output_type": "execute_result"
    }
   ],
   "source": [
    "# Let's compare the revenue by channels\n",
    "# Displaying the revenue by channels in million (divide by 1 million)\n",
    "data['Revenue'].groupby(data['Channels']).sum() / 1000000"
   ]
  },
  {
   "cell_type": "code",
   "execution_count": null,
   "metadata": {},
   "outputs": [
    {
     "data": {
      "text/plain": [
       "<Axes: xlabel='Channels'>"
      ]
     },
     "execution_count": 14,
     "metadata": {},
     "output_type": "execute_result"
    },
    {
     "data": {
      "image/png": "[encoded data removed]",
      "text/plain": [
       "<Figure size 640x480 with 1 Axes>"
      ]
     },
     "metadata": {},
     "output_type": "display_data"
    }
   ],
   "source": [
    "# Plotting the revenue by channels\n",
    "data_revenue = data['Revenue'].groupby(data['Channels']).sum() / 1000000\n",
    "data_revenue.plot(kind='bar')\n"
   ]
  },
  {
   "cell_type": "code",
   "execution_count": null,
   "metadata": {},
   "outputs": [
    {
     "data": {
      "text/plain": [
       "Channels\n",
       "Online      11.687943\n",
       "Reseller    -2.316039\n",
       "Name: Profit, dtype: float64"
      ]
     },
     "execution_count": 18,
     "metadata": {},
     "output_type": "execute_result"
    }
   ],
   "source": [
    "# Let's compare the profit by channels\n",
    "data['Profit'].groupby(data['Channels']).sum()/1000000"
   ]
  },
  {
   "cell_type": "code",
   "execution_count": 19,
   "metadata": {},
   "outputs": [
    {
     "data": {
      "text/plain": [
       "<Axes: xlabel='Channels'>"
      ]
     },
     "execution_count": 19,
     "metadata": {},
     "output_type": "execute_result"
    },
    {
     "data": {
      "image/png": "[encoded data removed]",
      "text/plain": [
       "<Figure size 640x480 with 1 Axes>"
      ]
     },
     "metadata": {},
     "output_type": "display_data"
    }
   ],
   "source": [
    "# Let's visualize the profit by channels\n",
    "data_profit = data['Profit'].groupby(data['Channels']).sum() / 1000000\n",
    "data_profit.plot(kind='bar')"
   ]
  }
 ],
 "metadata": {
  "kernelspec": {
   "display_name": "Python 3",
   "language": "python",
   "name": "python3"
  },
  "language_info": {
   "codemirror_mode": {
    "name": "ipython",
    "version": 3
   },
   "file_extension": ".py",
   "mimetype": "text/x-python",
   "name": "python",
   "nbconvert_exporter": "python",
   "pygments_lexer": "ipython3",
   "version": "3.12.8"
  }
 },
 "nbformat": 4,
 "nbformat_minor": 2
}
